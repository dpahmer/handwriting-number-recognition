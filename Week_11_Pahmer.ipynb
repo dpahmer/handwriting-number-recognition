{
 "cells": [
  {
   "cell_type": "markdown",
   "metadata": {
    "id": "V1ZRNZHnPTCE"
   },
   "source": [
    "#### In this exercise, you will build a convolutional neural network (CNN) to classify handwritten digits from the MNIST dataset. The steps to build a CNN classifier are outlined in section 20.15 of the Machine Learning with Python Cookbook, but keep in mind that your code may need to be modified depending on your version of Keras."
   ]
  },
  {
   "cell_type": "markdown",
   "metadata": {
    "id": "4J6E_JdKPdJs"
   },
   "source": [
    "Naturally, it didn't work in Jupyter. After many attempts to update the environment and packages, the kernel died each time I tried to initialize the neural network, so I had to switch to Google Colab."
   ]
  },
  {
   "cell_type": "code",
   "execution_count": 1,
   "metadata": {
    "id": "eN5--p7rLLsG"
   },
   "outputs": [],
   "source": [
    "import numpy as np\n",
    "from matplotlib import pyplot as plt\n",
    "from keras.datasets import mnist\n",
    "from keras.models import Sequential\n",
    "from keras.layers import Dense, Dropout, Flatten\n",
    "from keras.layers.convolutional import Conv2D, MaxPooling2D\n",
    "from keras.utils import np_utils\n",
    "from keras import backend as K\n"
   ]
  },
  {
   "cell_type": "markdown",
   "metadata": {
    "id": "wyy-RR5cPFbJ"
   },
   "source": [
    "#### Load the MNIST data set."
   ]
  },
  {
   "cell_type": "code",
   "execution_count": 2,
   "metadata": {
    "id": "_FC0yJre9yi4"
   },
   "outputs": [],
   "source": [
    "K.set_image_data_format(\"channels_first\")\n",
    "channels = 1\n",
    "height = 28\n",
    "width = 28\n",
    "# Load data and target from MNIST data\n",
    "(data_train, target_train), (data_test, target_test) = mnist.load_data()"
   ]
  },
  {
   "cell_type": "markdown",
   "metadata": {
    "id": "Msm19JwDQBoK"
   },
   "source": [
    "Of course, the Channels first layout caused problems, but it seems that the GPU accelerator can handle it, for no accountable reason."
   ]
  },
  {
   "cell_type": "code",
   "execution_count": 3,
   "metadata": {
    "colab": {
     "base_uri": "https://localhost:8080/"
    },
    "id": "HMO2y6w696CD",
    "outputId": "3810f541-e787-4385-ea46-10ade7a7c3a9"
   },
   "outputs": [
    {
     "name": "stdout",
     "output_type": "stream",
     "text": [
      "(60000, 28, 28)\n",
      "(60000,)\n"
     ]
    }
   ],
   "source": [
    "print(data_train.shape)\n",
    "print(target_train.shape)"
   ]
  },
  {
   "cell_type": "markdown",
   "metadata": {
    "id": "HDW94lnd-GBO"
   },
   "source": [
    "#### Display the first five images in the training data set (see section 8.1 in the Machine Learning with Python Cookbook). Compare these to the first five training labels."
   ]
  },
  {
   "cell_type": "code",
   "execution_count": 4,
   "metadata": {
    "colab": {
     "base_uri": "https://localhost:8080/",
     "height": 792
    },
    "id": "fVcO-_5d-HRZ",
    "outputId": "79227685-4a00-4931-8980-d7fecd440ad5"
   },
   "outputs": [
    {
     "data": {
      "image/png": "[encoded data removed]",
      "text/plain": [
       "<Figure size 640x480 with 1 Axes>"
      ]
     },
     "metadata": {},
     "output_type": "display_data"
    },
    {
     "data": {
      "image/png": "[encoded data removed]",
      "text/plain": [
       "<Figure size 640x480 with 1 Axes>"
      ]
     },
     "metadata": {},
     "output_type": "display_data"
    },
    {
     "data": {
      "image/png": "[encoded data removed]",
      "text/plain": [
       "<Figure size 640x480 with 1 Axes>"
      ]
     },
     "metadata": {},
     "output_type": "display_data"
    },
    {
     "data": {
      "image/png": "[encoded data removed]",
      "text/plain": [
       "<Figure size 640x480 with 1 Axes>"
      ]
     },
     "metadata": {},
     "output_type": "display_data"
    },
    {
     "data": {
      "image/png": "[encoded data removed]",
      "text/plain": [
       "<Figure size 640x480 with 1 Axes>"
      ]
     },
     "metadata": {},
     "output_type": "display_data"
    }
   ],
   "source": [
    "for i in range(5):  \n",
    "    plt.subplot(330 + 1 + i)\n",
    "    plt.imshow(data_train[i], cmap=plt.get_cmap('gray'))\n",
    "    plt.show()"
   ]
  },
  {
   "cell_type": "code",
   "execution_count": 5,
   "metadata": {
    "colab": {
     "base_uri": "https://localhost:8080/"
    },
    "id": "IiKsAcr_-K35",
    "outputId": "e0432909-a99f-466d-8ac9-d5dd6093e162"
   },
   "outputs": [
    {
     "name": "stdout",
     "output_type": "stream",
     "text": [
      "[5 0 4 1 9]\n"
     ]
    }
   ],
   "source": [
    "print(target_train[:5])"
   ]
  },
  {
   "cell_type": "markdown",
   "metadata": {
    "id": "KYyz0nLnQk7a"
   },
   "source": [
    "Exactly on target! 5 for 5!"
   ]
  },
  {
   "cell_type": "markdown",
   "metadata": {
    "id": "33Bnbtmn-TwN"
   },
   "source": [
    "#### Build and train a Keras CNN classifier on the MNIST training set."
   ]
  },
  {
   "cell_type": "code",
   "execution_count": 6,
   "metadata": {
    "id": "ODyi0Kdo-UmN"
   },
   "outputs": [],
   "source": [
    "# Reshape training image data into features\n",
    "data_train = data_train.reshape(data_train.shape[0], channels, height, width)\n",
    "# Reshape test image data into features\n",
    "data_test = data_test.reshape(data_test.shape[0], channels, height, width)"
   ]
  },
  {
   "cell_type": "code",
   "execution_count": 7,
   "metadata": {
    "colab": {
     "base_uri": "https://localhost:8080/"
    },
    "id": "ILzCgXwM-YDB",
    "outputId": "c4784ec8-1c24-443d-f2da-22ad5b48c06b"
   },
   "outputs": [
    {
     "name": "stdout",
     "output_type": "stream",
     "text": [
      "10\n"
     ]
    }
   ],
   "source": [
    "# Rescale pixel intensity to between 0 and 1\n",
    "features_train = data_train / 255\n",
    "features_test = data_test / 255\n",
    "# One-hot encode target\n",
    "target_train = np_utils.to_categorical(target_train)\n",
    "target_test = np_utils.to_categorical(target_test)\n",
    "number_of_classes = target_test.shape[1]\n",
    "print(number_of_classes)"
   ]
  },
  {
   "cell_type": "markdown",
   "metadata": {
    "id": "UR08zVlyRFRU"
   },
   "source": [
    "Well, these are new functions. Still unclear to me why we needed to convert the target to features, however."
   ]
  },
  {
   "cell_type": "code",
   "execution_count": 8,
   "metadata": {
    "id": "taRpL6c7-arh"
   },
   "outputs": [],
   "source": [
    "# Start neural network\n",
    "network = Sequential()"
   ]
  },
  {
   "cell_type": "code",
   "execution_count": 9,
   "metadata": {
    "id": "3yAhoelE-dzL"
   },
   "outputs": [],
   "source": [
    "# Add convolutional layer with 64 filters, a 5x5 window, and ReLU activation function\n",
    "network.add(Conv2D(filters=64,\n",
    "   kernel_size=(5, 5),\n",
    "   input_shape=(channels, width, height),\n",
    "   activation='relu'))"
   ]
  },
  {
   "cell_type": "code",
   "execution_count": 10,
   "metadata": {
    "id": "AwP0J148-h15"
   },
   "outputs": [],
   "source": [
    "# Add max pooling layer with a 2x2 window\n",
    "network.add(MaxPooling2D(pool_size=(2, 2)))\n",
    "\n",
    "# Add dropout layer\n",
    "network.add(Dropout(0.5))\n",
    "\n",
    "# Add layer to flatten input\n",
    "network.add(Flatten())"
   ]
  },
  {
   "cell_type": "markdown",
   "metadata": {
    "id": "M-xAeznaRvXC"
   },
   "source": [
    "Some of these parameters aren't clear why they were chosen- in particular why is the first dropout set at .5 and not .2 like we were told the first one should be?"
   ]
  },
  {
   "cell_type": "code",
   "execution_count": 11,
   "metadata": {
    "id": "w-k9WdH_-tVK"
   },
   "outputs": [],
   "source": [
    "# # Add fully connected layer of 128 units with a ReLU activation function\n",
    "network.add(Dense(128, activation=\"relu\"))\n",
    "\n",
    "# Add dropout layer\n",
    "network.add(Dropout(0.5))\n",
    "\n",
    "# Add fully connected layer with a softmax activation function\n",
    "network.add(Dense(number_of_classes, activation=\"softmax\"))"
   ]
  },
  {
   "cell_type": "code",
   "execution_count": 12,
   "metadata": {
    "id": "8533Dcge-wjV"
   },
   "outputs": [],
   "source": [
    "network.compile(loss=\"categorical_crossentropy\", # Cross-entropy\n",
    "optimizer=\"rmsprop\", # Root Mean Square Propagation\n",
    "metrics=[\"accuracy\"]) # Accuracy performance metric"
   ]
  },
  {
   "cell_type": "code",
   "execution_count": 13,
   "metadata": {
    "id": "UqIGL5JF-zAL"
   },
   "outputs": [],
   "source": [
    "# Train neural network\n",
    "history=network.fit(features_train, target_train, epochs=3, verbose=0, batch_size=1000, validation_data=(features_test, target_test))"
   ]
  },
  {
   "cell_type": "markdown",
   "metadata": {
    "id": "MY09O1YlSO3m"
   },
   "source": [
    "I didn't actually use the history to hypertune the model, and I also am suspicious as to how we were allowed to use the test set in the validation. That shouldn't be allowed! Total snooping."
   ]
  },
  {
   "cell_type": "markdown",
   "metadata": {
    "id": "A4oi6CzuS04r"
   },
   "source": [
    "In any case, let's see what the prediction yields:"
   ]
  },
  {
   "cell_type": "code",
   "execution_count": 14,
   "metadata": {
    "colab": {
     "base_uri": "https://localhost:8080/"
    },
    "id": "Sb5ppDHE-2fS",
    "outputId": "edd8b7ca-d65b-4419-8bf4-f0665a87f21d"
   },
   "outputs": [
    {
     "name": "stdout",
     "output_type": "stream",
     "text": [
      "1875/1875 [==============================] - 7s 3ms/step\n"
     ]
    }
   ],
   "source": [
    "train_pred=network.predict (features_train)"
   ]
  },
  {
   "cell_type": "code",
   "execution_count": 15,
   "metadata": {
    "colab": {
     "base_uri": "https://localhost:8080/"
    },
    "id": "HL6F3BJaNcEh",
    "outputId": "e25cb62a-b6e8-4e86-bfe8-e41adc510ca4"
   },
   "outputs": [
    {
     "data": {
      "text/plain": [
       "array([[6.20223045e-06, 7.89730693e-05, 4.63080760e-05, ...,\n",
       "        8.35006940e-05, 2.62643734e-04, 8.15334279e-05],\n",
       "       [9.99794185e-01, 3.93894538e-07, 3.63102845e-05, ...,\n",
       "        4.85353439e-06, 9.57522570e-06, 1.19170431e-06],\n",
       "       [2.74749018e-05, 9.83971404e-04, 6.09397248e-04, ...,\n",
       "        5.91068470e-04, 2.41608475e-04, 2.92089046e-03],\n",
       "       ...,\n",
       "       [1.26736381e-07, 5.78320339e-07, 1.34240175e-08, ...,\n",
       "        1.28867555e-07, 9.74589930e-05, 6.55117256e-05],\n",
       "       [5.36062580e-04, 1.15104967e-05, 1.37425057e-04, ...,\n",
       "        1.17614161e-06, 2.76952669e-05, 5.55742963e-06],\n",
       "       [7.95675965e-04, 1.67748512e-05, 2.81194894e-04, ...,\n",
       "        2.37593747e-04, 9.93203044e-01, 3.69447493e-03]], dtype=float32)"
      ]
     },
     "execution_count": 15,
     "metadata": {},
     "output_type": "execute_result"
    }
   ],
   "source": [
    "train_pred"
   ]
  },
  {
   "cell_type": "markdown",
   "metadata": {
    "id": "oZT1qj6lS7K3"
   },
   "source": [
    "What's that? Oh, it's the probability of matching the features of the target- so now, the question is how to extract the actual value predicted from that- stay tuned!"
   ]
  },
  {
   "cell_type": "code",
   "execution_count": 15,
   "metadata": {
    "id": "BzRfJ-GVNtih"
   },
   "outputs": [],
   "source": []
  },
  {
   "cell_type": "markdown",
   "metadata": {
    "id": "-ihsMLse31_x"
   },
   "source": [
    "#### Report the test accuracy of your model."
   ]
  },
  {
   "cell_type": "code",
   "execution_count": 16,
   "metadata": {
    "colab": {
     "base_uri": "https://localhost:8080/"
    },
    "id": "TT5d-0lRLXo3",
    "outputId": "f9f8894b-0aaf-4e08-ebd9-bd45623a4bc3"
   },
   "outputs": [
    {
     "name": "stdout",
     "output_type": "stream",
     "text": [
      "313/313 [==============================] - 1s 3ms/step - loss: 0.0722 - accuracy: 0.9778\n",
      "0.9778000116348267\n"
     ]
    }
   ],
   "source": [
    "loss, accuracy=network.evaluate(features_test, target_test)\n",
    "print(accuracy)"
   ]
  },
  {
   "cell_type": "markdown",
   "metadata": {
    "id": "C8XkE_swTYha"
   },
   "source": [
    "That's pretty good! Maybe too good, as I would wonder..."
   ]
  },
  {
   "cell_type": "code",
   "execution_count": 17,
   "metadata": {
    "colab": {
     "base_uri": "https://localhost:8080/"
    },
    "id": "W4L3x_rY5glf",
    "outputId": "dbe8972b-d216-4d09-f6ad-8674dafd0b6c"
   },
   "outputs": [
    {
     "name": "stdout",
     "output_type": "stream",
     "text": [
      "313/313 [==============================] - 1s 2ms/step\n"
     ]
    }
   ],
   "source": [
    "target_pred=network.predict(features_test)"
   ]
  },
  {
   "cell_type": "code",
   "execution_count": 18,
   "metadata": {
    "colab": {
     "base_uri": "https://localhost:8080/"
    },
    "id": "gLQ64Wr078YP",
    "outputId": "0a0790a4-17f0-4c26-9907-afafdfa31015"
   },
   "outputs": [
    {
     "data": {
      "text/plain": [
       "array([[0., 0., 0., ..., 1., 0., 0.],\n",
       "       [0., 0., 1., ..., 0., 0., 0.],\n",
       "       [0., 1., 0., ..., 0., 0., 0.],\n",
       "       ...,\n",
       "       [0., 0., 0., ..., 0., 0., 0.],\n",
       "       [0., 0., 0., ..., 0., 0., 0.],\n",
       "       [0., 0., 0., ..., 0., 0., 0.]], dtype=float32)"
      ]
     },
     "execution_count": 18,
     "metadata": {},
     "output_type": "execute_result"
    }
   ],
   "source": [
    "targetpredround=np.around(target_pred)\n",
    "targetpredround"
   ]
  },
  {
   "cell_type": "markdown",
   "metadata": {
    "id": "KAomvOMPThcq"
   },
   "source": [
    "I thought I needed to do this to get the actual number, but it turns out that I don't."
   ]
  },
  {
   "cell_type": "code",
   "execution_count": 18,
   "metadata": {
    "id": "xD8n_kvVJ7td"
   },
   "outputs": [],
   "source": []
  },
  {
   "cell_type": "code",
   "execution_count": 19,
   "metadata": {
    "id": "hz4CT-iCEAJC"
   },
   "outputs": [],
   "source": [
    "predarray=list()\n",
    "for x in range(len(target_test)):\n",
    "  predarray.append(np.argmax(targetpredround[x]))\n"
   ]
  },
  {
   "cell_type": "code",
   "execution_count": 20,
   "metadata": {
    "id": "30u91LYKIYHb"
   },
   "outputs": [],
   "source": [
    "targetarray=list()\n",
    "for x in range(len(target_test)):\n",
    "  targetarray.append(np.argmax(target_test[x]))"
   ]
  },
  {
   "cell_type": "code",
   "execution_count": 21,
   "metadata": {
    "colab": {
     "base_uri": "https://localhost:8080/"
    },
    "id": "A5vX1q1CLejW",
    "outputId": "d563b3c4-941a-4bae-b8ea-eeaf1b509ee7"
   },
   "outputs": [
    {
     "name": "stdout",
     "output_type": "stream",
     "text": [
      "10000\n"
     ]
    }
   ],
   "source": [
    "print(len(predarray))"
   ]
  },
  {
   "cell_type": "code",
   "execution_count": 22,
   "metadata": {
    "colab": {
     "base_uri": "https://localhost:8080/"
    },
    "id": "WOCPZ-dTLluv",
    "outputId": "fd64a64b-358d-4434-d57f-c3b01533af73"
   },
   "outputs": [
    {
     "name": "stdout",
     "output_type": "stream",
     "text": [
      "10000\n"
     ]
    }
   ],
   "source": [
    "print(len(targetarray))"
   ]
  },
  {
   "cell_type": "markdown",
   "metadata": {
    "id": "U8ZKRlzsTyrx"
   },
   "source": [
    "I was just checking. Looks good. Now let's see the correspondence as a matrix:"
   ]
  },
  {
   "cell_type": "code",
   "execution_count": 22,
   "metadata": {
    "id": "Pv2l8Z9IGgOV"
   },
   "outputs": [],
   "source": []
  },
  {
   "cell_type": "markdown",
   "metadata": {
    "id": "MXidb1vD35Dw"
   },
   "source": [
    "#### Display a confusion matrix on the test set classifications."
   ]
  },
  {
   "cell_type": "code",
   "execution_count": 23,
   "metadata": {
    "colab": {
     "base_uri": "https://localhost:8080/"
    },
    "id": "IAYLDBJp-oPw",
    "outputId": "01a14596-a155-4fc9-e719-1b4550d9d84e"
   },
   "outputs": [
    {
     "name": "stdout",
     "output_type": "stream",
     "text": [
      "[[[8915  105]\n",
      "  [   8  972]]\n",
      "\n",
      " [[8853   12]\n",
      "  [  14 1121]]\n",
      "\n",
      " [[8937   31]\n",
      "  [  29 1003]]\n",
      "\n",
      " [[8971   19]\n",
      "  [  24  986]]\n",
      "\n",
      " [[9005   13]\n",
      "  [  19  963]]\n",
      "\n",
      " [[9102    6]\n",
      "  [  26  866]]\n",
      "\n",
      " [[9018   24]\n",
      "  [  14  944]]\n",
      "\n",
      " [[8950   22]\n",
      "  [  32  996]]\n",
      "\n",
      " [[9011   15]\n",
      "  [  51  923]]\n",
      "\n",
      " [[8980   11]\n",
      "  [  41  968]]]\n"
     ]
    }
   ],
   "source": [
    "from sklearn import metrics\n",
    "print(metrics.multilabel_confusion_matrix(targetarray,predarray))"
   ]
  },
  {
   "cell_type": "markdown",
   "metadata": {
    "id": "LJfGAfgQULWi"
   },
   "source": [
    "That's cool, but not exactly what I wanted: that shows for each character what the confusion matrix was, but I'm interested in a single matrix with all 10 digits laid out actual vs. predicted."
   ]
  },
  {
   "cell_type": "code",
   "execution_count": 24,
   "metadata": {
    "colab": {
     "base_uri": "https://localhost:8080/"
    },
    "id": "NB84gWGMGbJB",
    "outputId": "e8ef57b8-5dbd-4fbe-ff0c-92ccc35215bb"
   },
   "outputs": [
    {
     "data": {
      "text/plain": [
       "array([[ 972,    0,    1,    0,    0,    0,    5,    1,    1,    0],\n",
       "       [   9, 1121,    1,    1,    0,    0,    2,    0,    1,    0],\n",
       "       [  14,    1, 1003,    0,    1,    0,    1,    8,    4,    0],\n",
       "       [   8,    0,    7,  986,    0,    1,    0,    5,    3,    0],\n",
       "       [   5,    0,    1,    0,  963,    0,    4,    1,    2,    6],\n",
       "       [  10,    0,    0,    8,    0,  866,    5,    1,    2,    0],\n",
       "       [   8,    3,    0,    0,    2,    1,  944,    0,    0,    0],\n",
       "       [  10,    3,   13,    3,    0,    0,    0,  996,    1,    2],\n",
       "       [  24,    0,    7,    3,    5,    1,    6,    2,  923,    3],\n",
       "       [  17,    5,    1,    4,    5,    3,    1,    4,    1,  968]])"
      ]
     },
     "execution_count": 24,
     "metadata": {},
     "output_type": "execute_result"
    }
   ],
   "source": [
    "metrics.confusion_matrix(targetarray,predarray)"
   ]
  },
  {
   "cell_type": "code",
   "execution_count": 24,
   "metadata": {
    "id": "0xup2oKe6YGK"
   },
   "outputs": [],
   "source": []
  },
  {
   "cell_type": "markdown",
   "metadata": {
    "id": "2aDBgtYPPD9a"
   },
   "source": [
    "Yes it's pretty amazing. "
   ]
  },
  {
   "cell_type": "code",
   "execution_count": 24,
   "metadata": {
    "id": "kkGoEtaR-ofs"
   },
   "outputs": [],
   "source": []
  },
  {
   "cell_type": "markdown",
   "metadata": {
    "id": "GNSZhf8g36Bw"
   },
   "source": [
    "#### Summarize your results."
   ]
  },
  {
   "cell_type": "markdown",
   "metadata": {
    "id": "keC98F6DVO9a"
   },
   "source": [
    "Well it was a great model- with a batch size of 1000 and three epochs. For a close examination of the results- it seems that the model had some trouble with zero (I think that's the first column) but it was still not a perfect analyzer. Perhaps with further tuning it could be improved yet further!"
   ]
  },
  {
   "cell_type": "code",
   "execution_count": 24,
   "metadata": {
    "id": "SNlLkgNe4E4L"
   },
   "outputs": [],
   "source": []
  }
 ],
 "metadata": {
  "accelerator": "GPU",
  "colab": {
   "gpuType": "T4",
   "provenance": []
  },
  "kernelspec": {
   "display_name": "Python 3 (ipykernel)",
   "language": "python",
   "name": "python3"
  },
  "language_info": {
   "codemirror_mode": {
    "name": "ipython",
    "version": 3
   },
   "file_extension": ".py",
   "mimetype": "text/x-python",
   "name": "python",
   "nbconvert_exporter": "python",
   "pygments_lexer": "ipython3",
   "version": "3.9.16"
  }
 },
 "nbformat": 4,
 "nbformat_minor": 1
}
